{
 "cells": [
  {
   "cell_type": "markdown",
   "metadata": {},
   "source": [
    "## Text UniSim Demo\n",
    "\n",
    "This demo showcases how to use Text UniSim (TextSim) for efficient fuzzy string matching, near-duplicate detection, and string similarity using a real-world entity matching dataset.\n",
    "\n",
    "For additional information, please see the documentation on [GitHub](https://github.com/google/unisim). For more details on the RETSim model used by UniSim, please see the [RETSim paper](https://arxiv.org/abs/2311.17264)."
   ]
  },
  {
   "cell_type": "code",
   "execution_count": 1,
   "metadata": {},
   "outputs": [
    {
     "name": "stdout",
     "output_type": "stream",
     "text": [
      "\u001b[33mWARNING: The directory '/workspace/.cache/pip' or its parent directory is not owned or is not writable by the current user. The cache has been disabled. Check the permissions and owner of that directory. If executing pip with sudo, you should use sudo's -H flag.\u001b[0m\u001b[33m\n",
      "\u001b[0mRequirement already satisfied: unisim in /usr/local/lib/python3.10/dist-packages (1.0.0)\n",
      "Requirement already satisfied: tabulate in /usr/local/lib/python3.10/dist-packages (from unisim) (0.9.0)\n",
      "Requirement already satisfied: numpy in /usr/local/lib/python3.10/dist-packages (from unisim) (1.22.2)\n",
      "Requirement already satisfied: tqdm in /usr/local/lib/python3.10/dist-packages (from unisim) (4.66.4)\n",
      "Requirement already satisfied: onnx in /usr/local/lib/python3.10/dist-packages (from unisim) (1.16.0)\n",
      "Requirement already satisfied: jaxtyping in /usr/local/lib/python3.10/dist-packages (from unisim) (0.2.28)\n",
      "Requirement already satisfied: onnxruntime-gpu in /usr/local/lib/python3.10/dist-packages (from unisim) (1.17.1)\n",
      "Requirement already satisfied: pandas in /usr/local/lib/python3.10/dist-packages (from unisim) (1.5.2)\n",
      "Requirement already satisfied: usearch>=2.6.0 in /usr/local/lib/python3.10/dist-packages (from unisim) (2.12.0)\n",
      "Requirement already satisfied: typeguard==2.13.3 in /workspace/.local/lib/python3.10/site-packages (from jaxtyping->unisim) (2.13.3)\n",
      "Requirement already satisfied: protobuf>=3.20.2 in /usr/local/lib/python3.10/dist-packages (from onnx->unisim) (3.20.3)\n",
      "Requirement already satisfied: coloredlogs in /usr/local/lib/python3.10/dist-packages (from onnxruntime-gpu->unisim) (15.0.1)\n",
      "Requirement already satisfied: flatbuffers in /usr/local/lib/python3.10/dist-packages (from onnxruntime-gpu->unisim) (2.0)\n",
      "Requirement already satisfied: packaging in /usr/local/lib/python3.10/dist-packages (from onnxruntime-gpu->unisim) (23.1)\n",
      "Requirement already satisfied: sympy in /usr/local/lib/python3.10/dist-packages (from onnxruntime-gpu->unisim) (1.12)\n",
      "Requirement already satisfied: python-dateutil>=2.8.1 in /usr/local/lib/python3.10/dist-packages (from pandas->unisim) (2.8.2)\n",
      "Requirement already satisfied: pytz>=2020.1 in /usr/local/lib/python3.10/dist-packages (from pandas->unisim) (2023.3)\n",
      "Requirement already satisfied: six>=1.5 in /usr/local/lib/python3.10/dist-packages (from python-dateutil>=2.8.1->pandas->unisim) (1.16.0)\n",
      "Requirement already satisfied: humanfriendly>=9.1 in /usr/local/lib/python3.10/dist-packages (from coloredlogs->onnxruntime-gpu->unisim) (10.0)\n",
      "Requirement already satisfied: mpmath>=0.19 in /usr/local/lib/python3.10/dist-packages (from sympy->onnxruntime-gpu->unisim) (1.3.0)\n",
      "\u001b[33mWARNING: Running pip as the 'root' user can result in broken permissions and conflicting behaviour with the system package manager. It is recommended to use a virtual environment instead: https://pip.pypa.io/warnings/venv\u001b[0m\u001b[33m\n",
      "\u001b[0m"
     ]
    },
    {
     "name": "stderr",
     "output_type": "stream",
     "text": [
      "/usr/local/lib/python3.10/dist-packages/tqdm/auto.py:21: TqdmWarning: IProgress not found. Please update jupyter and ipywidgets. See https://ipywidgets.readthedocs.io/en/stable/user_install.html\n",
      "  from .autonotebook import tqdm as notebook_tqdm\n"
     ]
    }
   ],
   "source": [
    "# installing needed dependencies\n",
    "import os\n",
    "\n",
    "# os.environ[\"CUDA_VISIBLE_DEVICES\"] = \"-1\"\n",
    "\n",
    "try:\n",
    "    import unisim\n",
    "except ImportError:\n",
    "    !pip install unisim\n",
    "\n",
    "try:\n",
    "    import datasets\n",
    "except ImportError:\n",
    "    !pip install datasets\n"
   ]
  },
  {
   "cell_type": "code",
   "execution_count": 2,
   "metadata": {},
   "outputs": [
    {
     "data": {
      "text/plain": [
       "'GPU'"
      ]
     },
     "execution_count": 2,
     "metadata": {},
     "output_type": "execute_result"
    }
   ],
   "source": [
    "import onnxruntime as rt\n",
    "\n",
    "rt.get_device()"
   ]
  },
  {
   "cell_type": "code",
   "execution_count": 3,
   "metadata": {},
   "outputs": [],
   "source": [
    "# imports\n",
    "from datasets import load_dataset\n",
    "from tabulate import tabulate\n",
    "import pandas as pd"
   ]
  },
  {
   "cell_type": "markdown",
   "metadata": {},
   "source": [
    "## Load Dataset\n",
    "\n",
    "For this demo, we use entity matching datasets available on [Huggingface](https://huggingface.co/datasets/RUC-DataLab/ER-dataset). We use the `restaurants1.csv` dataset which contains restaurants' names/phone numbers/addresses for this colab.\n",
    "\n",
    "Feel free to explore other examples they offer such as product matching (`walmart_amazon.csv`), paper citation matching (`dblp_scholar.csv`), and beer brands (`beer.csv`). The public datasets are from [DeepMatcher](https://github.com/anhaidgroup/deepmatcher/blob/master/Datasets.md), [Magellan](https://sites.google.com/site/anhaidgroup/useful-stuff/the-magellan-data-repository) and [WDC](http://webdatacommons.org/largescaleproductcorpus/v2/) and you can find a summary of them [here](https://github.com/ruc-datalab/DADER/tree/main)."
   ]
  },
  {
   "cell_type": "code",
   "execution_count": 4,
   "metadata": {},
   "outputs": [
    {
     "name": "stdout",
     "output_type": "stream",
     "text": [
      "\u001b[33mWARNING: The directory '/workspace/.cache/pip' or its parent directory is not owned or is not writable by the current user. The cache has been disabled. Check the permissions and owner of that directory. If executing pip with sudo, you should use sudo's -H flag.\u001b[0m\u001b[33m\n",
      "\u001b[0mName: unisim\n",
      "Version: 1.0.0\n",
      "Summary: UniSim: Universal Similarity\n",
      "Home-page: https://github.com/google/unisim\n",
      "Author: Google\n",
      "Author-email: unisim@google.com\n",
      "License: MIT\n",
      "Location: /usr/local/lib/python3.10/dist-packages\n",
      "Requires: jaxtyping, numpy, onnx, onnxruntime-gpu, pandas, tabulate, tqdm, usearch\n",
      "Required-by: \n"
     ]
    }
   ],
   "source": [
    "!pip show unisim"
   ]
  },
  {
   "cell_type": "code",
   "execution_count": 5,
   "metadata": {},
   "outputs": [
    {
     "ename": "ImportError",
     "evalue": "cannot import name 'AcceleratorType' from 'unisim.enums' (/usr/local/lib/python3.10/dist-packages/unisim/enums.py)",
     "output_type": "error",
     "traceback": [
      "\u001b[0;31m---------------------------------------------------------------------------\u001b[0m",
      "\u001b[0;31mImportError\u001b[0m                               Traceback (most recent call last)",
      "Cell \u001b[0;32mIn[5], line 2\u001b[0m\n\u001b[1;32m      1\u001b[0m \u001b[38;5;66;03m# import TextSim from UniSim\u001b[39;00m\n\u001b[0;32m----> 2\u001b[0m \u001b[38;5;28;01mfrom\u001b[39;00m \u001b[38;5;21;01munisim\u001b[39;00m \u001b[38;5;28;01mimport\u001b[39;00m TextSim\n",
      "File \u001b[0;32m/usr/local/lib/python3.10/dist-packages/unisim/__init__.py:8\u001b[0m\n\u001b[1;32m      1\u001b[0m \u001b[39m# Copyright 2023 Google LLC\u001b[39;00m\n\u001b[1;32m      2\u001b[0m \u001b[39m#\u001b[39;00m\n\u001b[1;32m      3\u001b[0m \u001b[39m# Use of this source code is governed by an MIT-style\u001b[39;00m\n\u001b[1;32m      4\u001b[0m \u001b[39m# license that can be found in the LICENSE file or at\u001b[39;00m\n\u001b[1;32m      5\u001b[0m \u001b[39m# https://opensource.org/licenses/MIT.\u001b[39;00m\n\u001b[1;32m      7\u001b[0m __version__ \u001b[39m=\u001b[39m \u001b[39m\"\u001b[39m\u001b[39m1.0.0\u001b[39m\u001b[39m\"\u001b[39m\n\u001b[0;32m----> 8\u001b[0m \u001b[39mfrom\u001b[39;00m \u001b[39m.\u001b[39;00m\u001b[39mtextsim\u001b[39;00m \u001b[39mimport\u001b[39;00m TextSim  \u001b[39m# noqa: F401\u001b[39;00m\n",
      "File \u001b[0;32m/usr/local/lib/python3.10/dist-packages/unisim/textsim.py:13\u001b[0m\n\u001b[1;32m     10\u001b[0m \u001b[39mfrom\u001b[39;00m \u001b[39mtabulate\u001b[39;00m \u001b[39mimport\u001b[39;00m tabulate\n\u001b[1;32m     12\u001b[0m \u001b[39mfrom\u001b[39;00m \u001b[39m.\u001b[39;00m\u001b[39mdataclass\u001b[39;00m \u001b[39mimport\u001b[39;00m Result, ResultCollection\n\u001b[0;32m---> 13\u001b[0m \u001b[39mfrom\u001b[39;00m \u001b[39m.\u001b[39;00m\u001b[39membedder\u001b[39;00m \u001b[39mimport\u001b[39;00m TextEmbedder\n\u001b[1;32m     14\u001b[0m \u001b[39mfrom\u001b[39;00m \u001b[39m.\u001b[39;00m\u001b[39menums\u001b[39;00m \u001b[39mimport\u001b[39;00m IndexerType\n\u001b[1;32m     15\u001b[0m \u001b[39mfrom\u001b[39;00m \u001b[39m.\u001b[39;00m\u001b[39mtypes\u001b[39;00m \u001b[39mimport\u001b[39;00m BatchEmbeddings\n",
      "File \u001b[0;32m/usr/local/lib/python3.10/dist-packages/unisim/embedder/__init__.py:7\u001b[0m\n\u001b[1;32m      1\u001b[0m \u001b[39m# Copyright 2023 Google LLC\u001b[39;00m\n\u001b[1;32m      2\u001b[0m \u001b[39m#\u001b[39;00m\n\u001b[1;32m      3\u001b[0m \u001b[39m# Use of this source code is governed by an MIT-style\u001b[39;00m\n\u001b[1;32m      4\u001b[0m \u001b[39m# license that can be found in the LICENSE file or at\u001b[39;00m\n\u001b[1;32m      5\u001b[0m \u001b[39m# https://opensource.org/licenses/MIT.\u001b[39;00m\n\u001b[0;32m----> 7\u001b[0m \u001b[39mfrom\u001b[39;00m \u001b[39m.\u001b[39;00m\u001b[39membedder\u001b[39;00m \u001b[39mimport\u001b[39;00m Embedder  \u001b[39m# noqa: F401\u001b[39;00m\n\u001b[1;32m      8\u001b[0m \u001b[39mfrom\u001b[39;00m \u001b[39m.\u001b[39;00m\u001b[39mtext\u001b[39;00m\u001b[39m.\u001b[39;00m\u001b[39mtext_embedder\u001b[39;00m \u001b[39mimport\u001b[39;00m TextEmbedder  \u001b[39m# noqa: F401\u001b[39;00m\n",
      "File \u001b[0;32m/usr/local/lib/python3.10/dist-packages/unisim/embedder/embedder.py:13\u001b[0m\n\u001b[1;32m      9\u001b[0m \u001b[39mfrom\u001b[39;00m \u001b[39mtyping\u001b[39;00m \u001b[39mimport\u001b[39;00m Any, List, Sequence, Union\n\u001b[1;32m     11\u001b[0m \u001b[39mimport\u001b[39;00m \u001b[39mnumpy\u001b[39;00m \u001b[39mas\u001b[39;00m \u001b[39mnp\u001b[39;00m\n\u001b[0;32m---> 13\u001b[0m \u001b[39mfrom\u001b[39;00m \u001b[39m.\u001b[39;00m\u001b[39m.\u001b[39;00m\u001b[39mbackend\u001b[39;00m \u001b[39mimport\u001b[39;00m load_model, predict\n\u001b[1;32m     14\u001b[0m \u001b[39mfrom\u001b[39;00m \u001b[39m.\u001b[39;00m\u001b[39m.\u001b[39;00m\u001b[39mtypes\u001b[39;00m \u001b[39mimport\u001b[39;00m BatchEmbeddings\n\u001b[1;32m     17\u001b[0m \u001b[39mclass\u001b[39;00m \u001b[39mEmbedder\u001b[39;00m(ABC):\n",
      "File \u001b[0;32m/usr/local/lib/python3.10/dist-packages/unisim/backend/__init__.py:10\u001b[0m\n\u001b[1;32m      1\u001b[0m \u001b[39m# Copyright 2023 Google LLC\u001b[39;00m\n\u001b[1;32m      2\u001b[0m \u001b[39m#\u001b[39;00m\n\u001b[1;32m      3\u001b[0m \u001b[39m# Use of this source code is governed by an MIT-style\u001b[39;00m\n\u001b[0;32m   (...)\u001b[0m\n\u001b[1;32m      8\u001b[0m \u001b[39m# ! don't import loader-related functions here - will break\u001b[39;00m\n\u001b[1;32m      9\u001b[0m \u001b[39m# ! instead, if needed (like set_backend()) put them in root __init__.py\u001b[39;00m\n\u001b[0;32m---> 10\u001b[0m \u001b[39mfrom\u001b[39;00m \u001b[39m.\u001b[39;00m\u001b[39m.\u001b[39;00m\u001b[39mconfig\u001b[39;00m \u001b[39mimport\u001b[39;00m floatx  \u001b[39m# noqa: F401\u001b[39;00m\n\u001b[1;32m     11\u001b[0m \u001b[39mfrom\u001b[39;00m \u001b[39m.\u001b[39;00m\u001b[39m.\u001b[39;00m\u001b[39mconfig\u001b[39;00m \u001b[39mimport\u001b[39;00m intx  \u001b[39m# noqa: F401\u001b[39;00m\n\u001b[1;32m     12\u001b[0m \u001b[39mfrom\u001b[39;00m \u001b[39m.\u001b[39;00m\u001b[39m.\u001b[39;00m\u001b[39mconfig\u001b[39;00m \u001b[39mimport\u001b[39;00m set_floatx  \u001b[39m# noqa: F401\u001b[39;00m\n",
      "File \u001b[0;32m/usr/local/lib/python3.10/dist-packages/unisim/config.py:7\u001b[0m\n\u001b[1;32m      1\u001b[0m \u001b[39m# Copyright 2023 Google LLC\u001b[39;00m\n\u001b[1;32m      2\u001b[0m \u001b[39m#\u001b[39;00m\n\u001b[1;32m      3\u001b[0m \u001b[39m# Use of this source code is governed by an MIT-style\u001b[39;00m\n\u001b[1;32m      4\u001b[0m \u001b[39m# license that can be found in the LICENSE file or at\u001b[39;00m\n\u001b[1;32m      5\u001b[0m \u001b[39m# https://opensource.org/licenses/MIT.\u001b[39;00m\n\u001b[0;32m----> 7\u001b[0m \u001b[39mfrom\u001b[39;00m \u001b[39m.\u001b[39;00m\u001b[39menums\u001b[39;00m \u001b[39mimport\u001b[39;00m AcceleratorType, BackendType\n\u001b[1;32m      9\u001b[0m \u001b[39m# internal state\u001b[39;00m\n\u001b[1;32m     10\u001b[0m _INTX: \u001b[39mstr\u001b[39m \u001b[39m=\u001b[39m \u001b[39m\"\u001b[39m\u001b[39mint64\u001b[39m\u001b[39m\"\u001b[39m\n",
      "\u001b[0;31mImportError\u001b[0m: cannot import name 'AcceleratorType' from 'unisim.enums' (/usr/local/lib/python3.10/dist-packages/unisim/enums.py)"
     ]
    }
   ],
   "source": [
    "# import TextSim from UniSim\n",
    "from unisim import TextSim"
   ]
  },
  {
   "cell_type": "code",
   "execution_count": null,
   "metadata": {},
   "outputs": [
    {
     "name": "stderr",
     "output_type": "stream",
     "text": [
      "Repo card metadata block was not found. Setting CardData to empty.\n"
     ]
    },
    {
     "name": "stdout",
     "output_type": "stream",
     "text": [
      "Size of dataset: 450\n",
      "Dataset features: ['A_NAME', 'A_PHONENUMBER', 'A_ADDRESS', 'B_NAME', 'B_PHONENUMBER', 'B_ADDRESS', 'label']\n"
     ]
    }
   ],
   "source": [
    "# load dataset from huggingface\n",
    "ds_name = \"restaurants1.csv\"\n",
    "dataset = load_dataset(\"RUC-DataLab/ER-dataset\", data_files=ds_name, split=\"train\")\n",
    "\n",
    "print(\"Size of dataset:\", len(dataset))\n",
    "\n",
    "dataset_features = list(dataset.features.keys())\n",
    "print(\"Dataset features:\", dataset_features)"
   ]
  },
  {
   "cell_type": "code",
   "execution_count": 5,
   "metadata": {},
   "outputs": [
    {
     "ename": "NameError",
     "evalue": "name 'dataset_features' is not defined",
     "output_type": "error",
     "traceback": [
      "\u001b[0;31m---------------------------------------------------------------------------\u001b[0m",
      "\u001b[0;31mNameError\u001b[0m                                 Traceback (most recent call last)",
      "Cell \u001b[0;32mIn[5], line 2\u001b[0m\n\u001b[1;32m      1\u001b[0m \u001b[38;5;66;03m# get features corresponding to pairs of texts in the dataset (text1, text2)\u001b[39;00m\n\u001b[0;32m----> 2\u001b[0m text1_features \u001b[38;5;241m=\u001b[39m [x \u001b[38;5;28;01mfor\u001b[39;00m x \u001b[38;5;129;01min\u001b[39;00m \u001b[43mdataset_features\u001b[49m \u001b[38;5;28;01mif\u001b[39;00m x\u001b[38;5;241m.\u001b[39mstartswith(\u001b[38;5;124m\"\u001b[39m\u001b[38;5;124mA\u001b[39m\u001b[38;5;124m\"\u001b[39m)]\n\u001b[1;32m      3\u001b[0m text2_features \u001b[38;5;241m=\u001b[39m [x \u001b[38;5;28;01mfor\u001b[39;00m x \u001b[38;5;129;01min\u001b[39;00m dataset_features \u001b[38;5;28;01mif\u001b[39;00m x\u001b[38;5;241m.\u001b[39mstartswith(\u001b[38;5;124m\"\u001b[39m\u001b[38;5;124mB\u001b[39m\u001b[38;5;124m\"\u001b[39m)]\n\u001b[1;32m      4\u001b[0m is_match_feature \u001b[38;5;241m=\u001b[39m \u001b[38;5;124m\"\u001b[39m\u001b[38;5;124mlabel\u001b[39m\u001b[38;5;124m\"\u001b[39m\n",
      "\u001b[0;31mNameError\u001b[0m: name 'dataset_features' is not defined"
     ]
    }
   ],
   "source": [
    "# get features corresponding to pairs of texts in the dataset (text1, text2)\n",
    "text1_features = [x for x in dataset_features if x.startswith(\"A\")]\n",
    "text2_features = [x for x in dataset_features if x.startswith(\"B\")]\n",
    "is_match_feature = \"label\"\n",
    "\n",
    "# create text pairs for example at idx in the dataset\n",
    "def get_text_pair(idx):\n",
    "    ex = dataset[idx]\n",
    "\n",
    "    text1 = \" \".join(str(ex[x]) for x in text1_features)\n",
    "    text2 = \" \".join(str(ex[x]) for x in text2_features)\n",
    "\n",
    "    label = ex[is_match_feature]\n",
    "    return [text1, text2, label]"
   ]
  },
  {
   "cell_type": "markdown",
   "metadata": {},
   "source": [
    "#### Initialize TextSim\n",
    "\n",
    "TextSim supports GPU acceleration with a specified `batch_size` parameter. If a GPU is not detected, TextSim will default to CPU. By default, TextSim saves a copy of your dataset but you can set `store_data=False` to save memory when using larger datasets.\n",
    "\n",
    "Additionally, TextSim support Approximate Nearest Neighbor (ANN) search through [USearch](https://github.com/unum-cloud/usearch). Setting `index_type=\"approx\"` will make TextSim significantly faster on large datasets (sub-linear search time). However, please note that while ANN search is very accurate, it does not guarantee that it will always find the closest match to a search query."
   ]
  },
  {
   "cell_type": "code",
   "execution_count": 6,
   "metadata": {},
   "outputs": [
    {
     "ename": "NameError",
     "evalue": "name 'TextSim' is not defined",
     "output_type": "error",
     "traceback": [
      "\u001b[0;31m---------------------------------------------------------------------------\u001b[0m",
      "\u001b[0;31mNameError\u001b[0m                                 Traceback (most recent call last)",
      "Cell \u001b[0;32mIn[6], line 2\u001b[0m\n\u001b[1;32m      1\u001b[0m \u001b[38;5;66;03m# create TextSim using default parameter settings\u001b[39;00m\n\u001b[0;32m----> 2\u001b[0m text_sim \u001b[38;5;241m=\u001b[39m \u001b[43mTextSim\u001b[49m(\n\u001b[1;32m      3\u001b[0m     store_data\u001b[38;5;241m=\u001b[39m\u001b[38;5;28;01mTrue\u001b[39;00m, \u001b[38;5;66;03m# set to False for large datasets to save memory\u001b[39;00m\n\u001b[1;32m      4\u001b[0m     index_type\u001b[38;5;241m=\u001b[39m\u001b[38;5;124m\"\u001b[39m\u001b[38;5;124mexact\u001b[39m\u001b[38;5;124m\"\u001b[39m, \u001b[38;5;66;03m# set to \"approx\" for large datasets to use ANN search\u001b[39;00m\n\u001b[1;32m      5\u001b[0m     batch_size\u001b[38;5;241m=\u001b[39m\u001b[38;5;241m128\u001b[39m, \u001b[38;5;66;03m# increasing batch_size on GPU may be faster\u001b[39;00m\n\u001b[1;32m      6\u001b[0m     use_accelerator\u001b[38;5;241m=\u001b[39m\u001b[38;5;28;01mTrue\u001b[39;00m, \u001b[38;5;66;03m# uses GPU if available, otherwise uses CPU\u001b[39;00m\n\u001b[1;32m      7\u001b[0m )\n",
      "\u001b[0;31mNameError\u001b[0m: name 'TextSim' is not defined"
     ]
    }
   ],
   "source": [
    "# create TextSim using default parameter settings\n",
    "text_sim = TextSim(\n",
    "    store_data=True, # set to False for large datasets to save memory\n",
    "    index_type=\"exact\", # set to \"approx\" for large datasets to use ANN search\n",
    "    batch_size=128, # increasing batch_size on GPU may be faster\n",
    "    use_accelerator=True, # uses GPU if available, otherwise uses CPU\n",
    ")"
   ]
  },
  {
   "cell_type": "markdown",
   "metadata": {},
   "source": [
    "#### Computing Similarity between Strings\n",
    "\n",
    "You can compute the similarity between two strings using the `.similarity(string1, string2)` method. The similarity value is a float between 0 and 1, with 1.0 representing identical strings. This is the cosine similarity between the vector representations of the strings.\n",
    "\n",
    "In this example, we compute the similarity between the first 5 pairs of the dataset."
   ]
  },
  {
   "cell_type": "code",
   "execution_count": 7,
   "metadata": {},
   "outputs": [
    {
     "data": {
      "text/html": [
       "<div>\n",
       "<style scoped>\n",
       "    .dataframe tbody tr th:only-of-type {\n",
       "        vertical-align: middle;\n",
       "    }\n",
       "\n",
       "    .dataframe tbody tr th {\n",
       "        vertical-align: top;\n",
       "    }\n",
       "\n",
       "    .dataframe thead th {\n",
       "        text-align: right;\n",
       "    }\n",
       "</style>\n",
       "<table border=\"1\" class=\"dataframe\">\n",
       "  <thead>\n",
       "    <tr style=\"text-align: right;\">\n",
       "      <th></th>\n",
       "      <th>text1</th>\n",
       "      <th>text2</th>\n",
       "      <th>match_label</th>\n",
       "      <th>similarity</th>\n",
       "    </tr>\n",
       "  </thead>\n",
       "  <tbody>\n",
       "    <tr>\n",
       "      <th>0</th>\n",
       "      <td>15 Romolo (415) 398-1359 15 Romolo Place, San ...</td>\n",
       "      <td>15 Romolo (415) 398-1359 15 Romolo Pl, San Fra...</td>\n",
       "      <td>1</td>\n",
       "      <td>0.971126</td>\n",
       "    </tr>\n",
       "    <tr>\n",
       "      <th>1</th>\n",
       "      <td>456 Shanghai Cuisine 1261 69 Mott Street, New ...</td>\n",
       "      <td>Shanghai Asian Manor (212) 766-6311 21 Mott St...</td>\n",
       "      <td>0</td>\n",
       "      <td>0.779690</td>\n",
       "    </tr>\n",
       "    <tr>\n",
       "      <th>2</th>\n",
       "      <td>5A5 Steak Lounge (415) 989-2539 244 Jackson St...</td>\n",
       "      <td>Delicious Dim Sum (415) 781-0721 752 Jackson S...</td>\n",
       "      <td>0</td>\n",
       "      <td>0.687840</td>\n",
       "    </tr>\n",
       "    <tr>\n",
       "      <th>3</th>\n",
       "      <td>9th Street Pizza (213) 627-7798 231 E 9th St, ...</td>\n",
       "      <td>Han Bat Sul Lung Tang (213) 383-9499 4163 W 5t...</td>\n",
       "      <td>0</td>\n",
       "      <td>0.610615</td>\n",
       "    </tr>\n",
       "    <tr>\n",
       "      <th>4</th>\n",
       "      <td>9th Street Pizza (213) 627-7798 231 E 9th St, ...</td>\n",
       "      <td>Jun Won Restaurant (213) 383-8855 3100 W 8th S...</td>\n",
       "      <td>0</td>\n",
       "      <td>0.617358</td>\n",
       "    </tr>\n",
       "  </tbody>\n",
       "</table>\n",
       "</div>"
      ],
      "text/plain": [
       "                                               text1  \\\n",
       "0  15 Romolo (415) 398-1359 15 Romolo Place, San ...   \n",
       "1  456 Shanghai Cuisine 1261 69 Mott Street, New ...   \n",
       "2  5A5 Steak Lounge (415) 989-2539 244 Jackson St...   \n",
       "3  9th Street Pizza (213) 627-7798 231 E 9th St, ...   \n",
       "4  9th Street Pizza (213) 627-7798 231 E 9th St, ...   \n",
       "\n",
       "                                               text2  match_label  similarity  \n",
       "0  15 Romolo (415) 398-1359 15 Romolo Pl, San Fra...            1    0.971126  \n",
       "1  Shanghai Asian Manor (212) 766-6311 21 Mott St...            0    0.779690  \n",
       "2  Delicious Dim Sum (415) 781-0721 752 Jackson S...            0    0.687840  \n",
       "3  Han Bat Sul Lung Tang (213) 383-9499 4163 W 5t...            0    0.610615  \n",
       "4  Jun Won Restaurant (213) 383-8855 3100 W 8th S...            0    0.617358  "
      ]
     },
     "metadata": {},
     "output_type": "display_data"
    }
   ],
   "source": [
    "example_data = [get_text_pair(idx) for idx in range(0, 5)]\n",
    "\n",
    "for i in range(len(example_data)):\n",
    "    text1, text2, is_match = example_data[i]  # ground truth is_match label\n",
    "\n",
    "    # compute similarity between text pair using .similarity\n",
    "    similarity = text_sim.similarity(text1, text2)\n",
    "\n",
    "    example_data[i].append(similarity)\n",
    "\n",
    "# display results in df\n",
    "df = pd.DataFrame(example_data, columns=[\"text1\", \"text2\", \"match_label\", \"similarity\"])\n",
    "display(df.head())"
   ]
  },
  {
   "cell_type": "markdown",
   "metadata": {},
   "source": [
    "We can see that the similarity between the first pair is 0.97, which is very high and indicates that the strings are near-duplicates of each other and the addresses match. The other pairs have far lower similarity values, indicating they are likely not matching strings and indeed, they do not represent the same entity."
   ]
  },
  {
   "cell_type": "markdown",
   "metadata": {},
   "source": [
    "#### Fuzzy String Matching\n",
    "\n",
    "TextSim offers efficient fuzzy string matching between two lists using the `.match` function. The `.match` function accepts `queries` (list of strings you want to find matches for) and `targets` (list of strings you are finding matches in). It returns a Pandas DataFrame, where each row contains a query, its most similar match found in targets, their similarity, and whether or not they are a match (if their similarity is >= `similarity_threshold`). `0.9` is a good starting point for `similarity_threshold` when matching near-duplicate strings.\n",
    "\n",
    "In this example, we show that TextSim is able to match restaurant addresses accurately even when there are typos, abbreviations, and formatting differences."
   ]
  },
  {
   "cell_type": "code",
   "execution_count": 8,
   "metadata": {},
   "outputs": [
    {
     "data": {
      "text/html": [
       "<div>\n",
       "<style scoped>\n",
       "    .dataframe tbody tr th:only-of-type {\n",
       "        vertical-align: middle;\n",
       "    }\n",
       "\n",
       "    .dataframe tbody tr th {\n",
       "        vertical-align: top;\n",
       "    }\n",
       "\n",
       "    .dataframe thead th {\n",
       "        text-align: right;\n",
       "    }\n",
       "</style>\n",
       "<table border=\"1\" class=\"dataframe\">\n",
       "  <thead>\n",
       "    <tr style=\"text-align: right;\">\n",
       "      <th></th>\n",
       "      <th>query</th>\n",
       "      <th>target</th>\n",
       "      <th>similarity</th>\n",
       "      <th>is_match</th>\n",
       "    </tr>\n",
       "  </thead>\n",
       "  <tbody>\n",
       "    <tr>\n",
       "      <th>0</th>\n",
       "      <td>Shanghai asia manor (212)-766-6311 21 Mott street, New York, NY 94133</td>\n",
       "      <td>Shanghai Asian Manor (212) 766-6311 21 Mott St, New York, NY 10013</td>\n",
       "      <td>0.907005</td>\n",
       "      <td>True</td>\n",
       "    </tr>\n",
       "    <tr>\n",
       "      <th>1</th>\n",
       "      <td>Googleplex (650) 253-0000 1600 Amphitheatre Pkwy, Mountain View, CA 94043</td>\n",
       "      <td>15 Romolo (415) 398-1359 15 Romolo Pl, San Francisco, CA 94133</td>\n",
       "      <td>0.466495</td>\n",
       "      <td>False</td>\n",
       "    </tr>\n",
       "    <tr>\n",
       "      <th>2</th>\n",
       "      <td>Sino-american books &amp; arts (415) 421-3345 751 Jackson St, San Francisco, CA 94133</td>\n",
       "      <td>Delicious Dim Sum (415) 781-0721 752 Jackson St, San Francisco, CA 94133</td>\n",
       "      <td>0.746311</td>\n",
       "      <td>False</td>\n",
       "    </tr>\n",
       "  </tbody>\n",
       "</table>\n",
       "</div>"
      ],
      "text/plain": [
       "                                                                               query  \\\n",
       "0              Shanghai asia manor (212)-766-6311 21 Mott street, New York, NY 94133   \n",
       "1          Googleplex (650) 253-0000 1600 Amphitheatre Pkwy, Mountain View, CA 94043   \n",
       "2  Sino-american books & arts (415) 421-3345 751 Jackson St, San Francisco, CA 94133   \n",
       "\n",
       "                                                                     target  \\\n",
       "0        Shanghai Asian Manor (212) 766-6311 21 Mott St, New York, NY 10013   \n",
       "1            15 Romolo (415) 398-1359 15 Romolo Pl, San Francisco, CA 94133   \n",
       "2  Delicious Dim Sum (415) 781-0721 752 Jackson St, San Francisco, CA 94133   \n",
       "\n",
       "   similarity  is_match  \n",
       "0    0.907005      True  \n",
       "1    0.466495     False  \n",
       "2    0.746311     False  "
      ]
     },
     "metadata": {},
     "output_type": "display_data"
    }
   ],
   "source": [
    "# targets to match queries to\n",
    "targets = [\n",
    "    \"Shanghai Asian Manor (212) 766-6311 21 Mott St, New York, NY 10013\",\n",
    "    \"Delicious Dim Sum (415) 781-0721 752 Jackson St, San Francisco, CA 94133\",\n",
    "    \"15 Romolo (415) 398-1359 15 Romolo Pl, San Francisco, CA 94133\",\n",
    "]\n",
    "\n",
    "# search queries we are looking up and finding matches for\n",
    "queries = [\n",
    "    \"Shanghai asia manor (212)-766-6311 21 Mott street, New York, NY 94133\", # near-dup match (capitalization, typos, different format)\n",
    "    \"Googleplex (650) 253-0000 1600 Amphitheatre Pkwy, Mountain View, CA 94043\", # no match\n",
    "    \"Sino-american books & arts (415) 421-3345 751 Jackson St, San Francisco, CA 94133\", # no match, different places but similar address\n",
    "]\n",
    "\n",
    "# .match does fuzzy matching between queries and targets lists\n",
    "results_df = text_sim.match(queries, targets, similarity_threshold=0.9)\n",
    "\n",
    "# display results dataframe\n",
    "with pd.option_context('display.max_colwidth', None):\n",
    "    display(results_df.head(10))"
   ]
  },
  {
   "cell_type": "markdown",
   "metadata": {},
   "source": [
    "We can try this on the whole dataset now. We use the first text in each pair as the target and the second text as the search query."
   ]
  },
  {
   "cell_type": "code",
   "execution_count": 9,
   "metadata": {},
   "outputs": [
    {
     "name": "stdout",
     "output_type": "stream",
     "text": [
      "Dataset examples:\n",
      "State Street Brats (608) 255-5544 603 State St, Madison, WI\n",
      "Quaker Steak & Lube (608) 831-5823 2259 Deming Way, Middleton, WI\n",
      "9th Street Pizza (213) 627-7798 231 E 9th St, Los Angeles, CA\n",
      "Han 202 (312) 949-1314 605 W. 31st Street, Chicago, IL\n",
      "Maharana (608) 246-8525 1707 Thierer Rd, Madison, WI\n"
     ]
    }
   ],
   "source": [
    "targets = list(set([get_text_pair(idx)[0] for idx in range(0, len(dataset))]))\n",
    "queries = list(set([get_text_pair(idx)[1] for idx in range(0, len(dataset))]))\n",
    "\n",
    "print(\"Dataset examples:\")\n",
    "print(\"\\n\".join([t for t in targets[:5]]))"
   ]
  },
  {
   "cell_type": "code",
   "execution_count": 10,
   "metadata": {},
   "outputs": [
    {
     "data": {
      "text/html": [
       "<div>\n",
       "<style scoped>\n",
       "    .dataframe tbody tr th:only-of-type {\n",
       "        vertical-align: middle;\n",
       "    }\n",
       "\n",
       "    .dataframe tbody tr th {\n",
       "        vertical-align: top;\n",
       "    }\n",
       "\n",
       "    .dataframe thead th {\n",
       "        text-align: right;\n",
       "    }\n",
       "</style>\n",
       "<table border=\"1\" class=\"dataframe\">\n",
       "  <thead>\n",
       "    <tr style=\"text-align: right;\">\n",
       "      <th></th>\n",
       "      <th>query</th>\n",
       "      <th>target</th>\n",
       "      <th>similarity</th>\n",
       "      <th>is_match</th>\n",
       "    </tr>\n",
       "  </thead>\n",
       "  <tbody>\n",
       "    <tr>\n",
       "      <th>0</th>\n",
       "      <td>Winton Deli Cafe (510) 786-2444 2042 W Winton Ave, Hayward, CA 94545</td>\n",
       "      <td>Winton Deli (510) 786-2444 2042 W Winton Avenue, Hayward, CA</td>\n",
       "      <td>0.931267</td>\n",
       "      <td>True</td>\n",
       "    </tr>\n",
       "    <tr>\n",
       "      <th>1</th>\n",
       "      <td>Han Bat Sul Lung Tang (213) 383-9499 4163 W 5th St, Los Angeles, CA 90020</td>\n",
       "      <td>Tinga (323) 954-9566 142 S La Brea, Los Angeles, CA</td>\n",
       "      <td>0.705754</td>\n",
       "      <td>False</td>\n",
       "    </tr>\n",
       "    <tr>\n",
       "      <th>2</th>\n",
       "      <td>Soot Bull Jeep (213) 387-3865 3136 W 8th St, Los Angeles, CA 90005</td>\n",
       "      <td>Dong Il Jang (213) 383-5757 3455 W 8th St, Los Angeles, CA</td>\n",
       "      <td>0.758085</td>\n",
       "      <td>False</td>\n",
       "    </tr>\n",
       "    <tr>\n",
       "      <th>3</th>\n",
       "      <td>Gam Ja Gol (213) 381-6446 3003 W Olympic Blvd, Los Angeles, CA 90006</td>\n",
       "      <td>Ramen Hayatemaru (310) 212-0055 11678 W Olympic Blvd, Los Angeles, CA</td>\n",
       "      <td>0.769117</td>\n",
       "      <td>False</td>\n",
       "    </tr>\n",
       "    <tr>\n",
       "      <th>4</th>\n",
       "      <td>Cup &amp; Cup (646) 398-9990 15 E 31st St, New York, NY 10016</td>\n",
       "      <td>456 Shanghai Cuisine 1261 69 Mott Street, New York, NY</td>\n",
       "      <td>0.692922</td>\n",
       "      <td>False</td>\n",
       "    </tr>\n",
       "    <tr>\n",
       "      <th>5</th>\n",
       "      <td>Asiento (415) 829-3375 2730 21st St, San Francisco, CA 94110</td>\n",
       "      <td>Asiento (415) 829-3375 2730 21st Street, San Francisco, CA</td>\n",
       "      <td>0.947136</td>\n",
       "      <td>True</td>\n",
       "    </tr>\n",
       "    <tr>\n",
       "      <th>6</th>\n",
       "      <td>Sake Lounge (608) 467-7770 406 W Gilman St, Madison, WI 53703</td>\n",
       "      <td>Blue Velvet Lounge (608) 250-9900 430 W Gilman St, Madison, WI</td>\n",
       "      <td>0.778796</td>\n",
       "      <td>False</td>\n",
       "    </tr>\n",
       "    <tr>\n",
       "      <th>7</th>\n",
       "      <td>Chris A.'s review of Arts and Crafts Beer Parlo (646) 678-5263 26 W 8th St, New York, NY 10011</td>\n",
       "      <td>Natsumi Bar And Lounge (212) 258-2988 226 W 50th Street, New York, NY</td>\n",
       "      <td>0.631072</td>\n",
       "      <td>False</td>\n",
       "    </tr>\n",
       "    <tr>\n",
       "      <th>8</th>\n",
       "      <td>Delicious Dim Sum (415) 781-0721 752 Jackson St, San Francisco, CA 94133</td>\n",
       "      <td>Delarosa (415) 673-7100 2175 Chestnut Street, San Francisco, CA</td>\n",
       "      <td>0.710805</td>\n",
       "      <td>False</td>\n",
       "    </tr>\n",
       "    <tr>\n",
       "      <th>9</th>\n",
       "      <td>Local Mission Eatery (415) 655-3422 3111 24th St, San Francisco, CA 94110</td>\n",
       "      <td>La Santaneca (415) 648-1034 3781 Mission Street, San Francisco, CA</td>\n",
       "      <td>0.763338</td>\n",
       "      <td>False</td>\n",
       "    </tr>\n",
       "  </tbody>\n",
       "</table>\n",
       "</div>"
      ],
      "text/plain": [
       "                                                                                            query  \\\n",
       "0                            Winton Deli Cafe (510) 786-2444 2042 W Winton Ave, Hayward, CA 94545   \n",
       "1                       Han Bat Sul Lung Tang (213) 383-9499 4163 W 5th St, Los Angeles, CA 90020   \n",
       "2                              Soot Bull Jeep (213) 387-3865 3136 W 8th St, Los Angeles, CA 90005   \n",
       "3                            Gam Ja Gol (213) 381-6446 3003 W Olympic Blvd, Los Angeles, CA 90006   \n",
       "4                                       Cup & Cup (646) 398-9990 15 E 31st St, New York, NY 10016   \n",
       "5                                    Asiento (415) 829-3375 2730 21st St, San Francisco, CA 94110   \n",
       "6                                   Sake Lounge (608) 467-7770 406 W Gilman St, Madison, WI 53703   \n",
       "7  Chris A.'s review of Arts and Crafts Beer Parlo (646) 678-5263 26 W 8th St, New York, NY 10011   \n",
       "8                        Delicious Dim Sum (415) 781-0721 752 Jackson St, San Francisco, CA 94133   \n",
       "9                       Local Mission Eatery (415) 655-3422 3111 24th St, San Francisco, CA 94110   \n",
       "\n",
       "                                                                  target  \\\n",
       "0           Winton Deli (510) 786-2444 2042 W Winton Avenue, Hayward, CA   \n",
       "1                    Tinga (323) 954-9566 142 S La Brea, Los Angeles, CA   \n",
       "2             Dong Il Jang (213) 383-5757 3455 W 8th St, Los Angeles, CA   \n",
       "3  Ramen Hayatemaru (310) 212-0055 11678 W Olympic Blvd, Los Angeles, CA   \n",
       "4                 456 Shanghai Cuisine 1261 69 Mott Street, New York, NY   \n",
       "5             Asiento (415) 829-3375 2730 21st Street, San Francisco, CA   \n",
       "6         Blue Velvet Lounge (608) 250-9900 430 W Gilman St, Madison, WI   \n",
       "7  Natsumi Bar And Lounge (212) 258-2988 226 W 50th Street, New York, NY   \n",
       "8        Delarosa (415) 673-7100 2175 Chestnut Street, San Francisco, CA   \n",
       "9     La Santaneca (415) 648-1034 3781 Mission Street, San Francisco, CA   \n",
       "\n",
       "   similarity  is_match  \n",
       "0    0.931267      True  \n",
       "1    0.705754     False  \n",
       "2    0.758085     False  \n",
       "3    0.769117     False  \n",
       "4    0.692922     False  \n",
       "5    0.947136      True  \n",
       "6    0.778796     False  \n",
       "7    0.631072     False  \n",
       "8    0.710805     False  \n",
       "9    0.763338     False  "
      ]
     },
     "metadata": {},
     "output_type": "display_data"
    }
   ],
   "source": [
    "results_df = text_sim.match(queries, targets)\n",
    "\n",
    "with pd.option_context('display.max_colwidth', None):\n",
    "    display(results_df.head(10))"
   ]
  },
  {
   "cell_type": "markdown",
   "metadata": {},
   "source": [
    "### Indexing and Searching for Similar Texts in a Dataset\n",
    "\n",
    "TextSim allows you to maintain, update, and query a large index to find similar texts. This gives you more control over indexing and querying your dataset, including how many similar texts you want to retrieve per query and detailed results.\n",
    "\n",
    "You can use the `.add` method to add examples from your dataset to the index, then use  `.search` to search the index and return the most similar texts to your search query."
   ]
  },
  {
   "cell_type": "code",
   "execution_count": 11,
   "metadata": {},
   "outputs": [],
   "source": [
    "# resets the index if you previously added things\n",
    "text_sim.reset_index()\n",
    "\n",
    "# adds the dataset of target examples to the index\n",
    "text_sim.add(targets)\n",
    "\n",
    "# for each query, search for the k=5 most similar texts\n",
    "result_collection = text_sim.search(queries, similarity_threshold=0.9, k=5)"
   ]
  },
  {
   "cell_type": "code",
   "execution_count": 12,
   "metadata": {},
   "outputs": [
    {
     "name": "stdout",
     "output_type": "stream",
     "text": [
      "Total matches found: 103\n"
     ]
    }
   ],
   "source": [
    "# texts are considered near-duplicate matches if their similarity >= similarity_threshold\n",
    "total_matches = result_collection.total_matches\n",
    "print(\"Total matches found:\", total_matches)"
   ]
  },
  {
   "cell_type": "markdown",
   "metadata": {},
   "source": [
    "`result_collection.results` contains a list of results corresponding to each query. Each `Result` object contains the results of a search query, including the number of matches found (`.num_matches`), the idx/data/embedding of the query (`.query_idx`, `.query_data`, `.query_embedding`), and a list of `Match` objects (`.matches`).\n",
    "\n",
    "The list of `Match`'s correspond to the `k` most similar texts found for the query, sorted by similarity (most similar first). Each `Match` object contains info on whether it is a near-duplicate match (`.is_match`), the rank (`.rank`), the data (`.data`), the similarity value (`.similarity`), and the embedding (`.embedding`) of the matched text.\n",
    "\n",
    "You can visualize a search result using `text_sim.visualize(result)`."
   ]
  },
  {
   "cell_type": "code",
   "execution_count": 13,
   "metadata": {},
   "outputs": [
    {
     "name": "stdout",
     "output_type": "stream",
     "text": [
      "Query 0: \"Winton Deli Cafe (510) 786-2444 2042 W Winton Ave, Hayward, CA 94545\"\n",
      "Most similar matches:\n",
      "\n",
      "  idx  is_match      similarity  text\n",
      "-----  ----------  ------------  ----------------------------------------------------------------\n",
      "   49  True                0.93  Winton Deli (510) 786-2444 2042 W Winton Avenue, Hayward, CA\n",
      "  205  False               0.64  Barriques Coffee (608) 268-6264 127 W Washington Ave, Madison, W\n",
      "  254  False               0.61  Cafe Zoma (608) 246-2009 2326 Atwood Ave, Madison, WI\n",
      "  166  False               0.61  Subway (608) 441-6887 2850 University Ave, Madison, WI\n",
      "   34  False               0.61  Taco Bell (608) 249-7312 4120 E Washington Ave, Madison, WI\n"
     ]
    }
   ],
   "source": [
    "# visualize results for each query using .visualize\n",
    "query_idx = 0\n",
    "result = result_collection.results[query_idx]\n",
    "text_sim.visualize(result)"
   ]
  },
  {
   "cell_type": "code",
   "execution_count": 14,
   "metadata": {},
   "outputs": [
    {
     "name": "stdout",
     "output_type": "stream",
     "text": [
      "Query 0: \"Winton Deli Cafe (510) 786-2444 2042 W Winton Ave, Hayward, CA 94545\"\n",
      "Most similar matches:\n",
      "\n",
      "  idx  is_match      similarity  text\n",
      "-----  ----------  ------------  ----------------------------------------------------------------\n",
      "   49  True                0.93  Winton Deli (510) 786-2444 2042 W Winton Avenue, Hayward, CA\n",
      "  205  False               0.64  Barriques Coffee (608) 268-6264 127 W Washington Ave, Madison, W\n",
      "  254  False               0.61  Cafe Zoma (608) 246-2009 2326 Atwood Ave, Madison, WI\n",
      "  166  False               0.61  Subway (608) 441-6887 2850 University Ave, Madison, WI\n",
      "   34  False               0.61  Taco Bell (608) 249-7312 4120 E Washington Ave, Madison, WI\n"
     ]
    }
   ],
   "source": [
    "# visualize a matching result\n",
    "first_matching_idx = None\n",
    "for result in result_collection.results:\n",
    "    if result.num_matches > 0:\n",
    "        first_matching_idx = result.query_idx\n",
    "        break\n",
    "\n",
    "result = result_collection.results[first_matching_idx]\n",
    "text_sim.visualize(result)"
   ]
  },
  {
   "cell_type": "markdown",
   "metadata": {},
   "source": [
    "You can keep adding examples and querying your index after you create it. This is useful for production use-cases, where you have incoming data or frequently need to query your index."
   ]
  },
  {
   "cell_type": "code",
   "execution_count": 15,
   "metadata": {},
   "outputs": [
    {
     "name": "stdout",
     "output_type": "stream",
     "text": [
      "Query 0: \"googleplx 650-253-0000 1600 amphitheatre parkway, mountain view, ca 94043\"\n",
      "Most similar matches:\n",
      "\n",
      "  idx  is_match      similarity  text\n",
      "-----  ----------  ------------  ----------------------------------------------------------------\n",
      "  304  True                0.92  Googleplex (650) 253-0000 1600 Amphitheatre Parkway, Mountain Vi\n",
      "  195  False               0.52  KFC (608) 849-5004 600 W Main St, Waunakee, WI\n",
      "    6  False               0.51  Gus's Diner (608) 318-0900 630 N Westmount Dr, Sun Prairie, WI\n",
      "   29  False               0.5   Sweet Maple (415) 655-9169 2101 Sutter Street, San Francisco, CA\n",
      "  194  False               0.49  Pho Nam (608) 836-7040 610 Junction Rd Suite 109, Madison, WI\n"
     ]
    }
   ],
   "source": [
    "# add new example to the index\n",
    "new_examples = [\"Googleplex (650) 253-0000 1600 Amphitheatre Parkway, Mountain View, CA 94043\"]\n",
    "text_sim.add(new_examples)\n",
    "\n",
    "# search for the example, with typos in our query\n",
    "result_collection = text_sim.search([\"googleplx 650-253-0000 1600 amphitheatre parkway, mountain view, ca 94043\"], k=5)\n",
    "\n",
    "result = result_collection.results[0]\n",
    "text_sim.visualize(result)"
   ]
  }
 ],
 "metadata": {
  "kernelspec": {
   "display_name": "Python 3.10.6 64-bit",
   "language": "python",
   "name": "python3"
  },
  "language_info": {
   "codemirror_mode": {
    "name": "ipython",
    "version": 3
   },
   "file_extension": ".py",
   "mimetype": "text/x-python",
   "name": "python",
   "nbconvert_exporter": "python",
   "pygments_lexer": "ipython3",
   "version": "3.10.6"
  },
  "orig_nbformat": 4,
  "vscode": {
   "interpreter": {
    "hash": "e7370f93d1d0cde622a1f8e1c04877d8463912d04d973331ad4851f04de6915a"
   }
  }
 },
 "nbformat": 4,
 "nbformat_minor": 2
}
